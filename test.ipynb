{
 "cells": [
  {
   "cell_type": "code",
   "execution_count": 1,
   "metadata": {
    "collapsed": true
   },
   "outputs": [],
   "source": [
    "import numpy as np\n",
    "import pandas as pd\n",
    "import matplotlib.pyplot as plt\n",
    "\n",
    "np.random.seed(seed=42)"
   ]
  },
  {
   "cell_type": "markdown",
   "metadata": {
    "collapsed": true
   },
   "source": [
    "# Initial Class Definitions"
   ]
  },
  {
   "cell_type": "code",
   "execution_count": 241,
   "metadata": {},
   "outputs": [],
   "source": [
    "# implements the basic features of our creatures.\n",
    "# they are:\n",
    "#    > gender (init=distribution)\n",
    "#    > alive (init=true)\n",
    "#    > age (init=distr or 0)\n",
    "#    > offspring (init=0)\n",
    "#    > fertility (init=distr)\n",
    "class Creature:\n",
    "    universe = None\n",
    "    \n",
    "    def __init__(self, gen, idx, age=0):\n",
    "        self.gender = 'm' if (np.random.uniform() < self.universe.mf_ratio[type(self)]) else 'f'\n",
    "        self.fertility = True if (np.random.uniform() < self.universe.fertility_ratio[type(self)]) else False\n",
    "        self.age = age\n",
    "        self.generation = gen\n",
    "        self.idx = idx\n",
    "        self.alive = True\n",
    "        self.offspring = 0\n",
    "    \n",
    "    def is_adult(self):\n",
    "        return self.age >= self.universe.adult_age[type(self)]\n",
    "    \n",
    "    def can_procriate(self):\n",
    "        return ((self.gender == 'f') and self.fertility)\n",
    "    \n",
    "    def children(self, gen, idx_init):\n",
    "        ncs = int(np.round(np.random.normal(loc=self.universe.offspring_mean[type(self)],\n",
    "                                                    scale=self.universe.offspring_variance[type(self)])))\n",
    "        return [type(self)(gen=gen, idx=(idx_init + i), age=0) for i in range(ncs)]\n",
    "    \n",
    "    def increment_age(self):\n",
    "        self.age = self.age + 1\n",
    "    \n",
    "    def kill(self):\n",
    "        self.alive = False\n",
    "\n",
    "    \n",
    "    # checks if the creature died randomly. If it did,\n",
    "    # updates its 'alive' attribute.\n",
    "    #\n",
    "    # returns if a random death occured (True) or not (False)\n",
    "    def random_death(self):\n",
    "        if (np.random.uniform(low=0.0, high=1.0) < self.universe.random_death_chance[type(self)]):\n",
    "            self.alive = False\n",
    "            return True\n",
    "        else:\n",
    "            return False\n",
    "\n",
    "        \n",
    "    # checks if an old death occured. If it occured, updates\n",
    "    # the 'alive' attribute of the creature.\n",
    "    #\n",
    "    # returns if an old age death actually occured (True) or\n",
    "    # not (False)\n",
    "    def old_age_death(self):\n",
    "        if (self.age > self.universe.lifespan[type(self)]):\n",
    "            self.alive = False\n",
    "            return True\n",
    "        else:\n",
    "            return False\n",
    "    \n",
    "\n",
    "# implements fly-only features and conditions\n",
    "# <<< this one's the predator/parasite\n",
    "class Fly(Creature):\n",
    "    pass\n",
    "\n",
    "# implements moth-only features and conditions\n",
    "class Moth(Creature):\n",
    "    caterpillars = []\n",
    "    \n",
    "    def __init__(self, gen, idx, age=0):\n",
    "        self.gender = 'm' if (np.random.uniform() < self.universe.mf_ratio[type(self)]) else 'f'\n",
    "        self.fertility = True if (np.random.uniform() < self.universe.fertility_ratio[type(self)]) else False\n",
    "        self.age = age\n",
    "        self.generation = gen\n",
    "        self.idx = idx\n",
    "        self.alive = True\n",
    "        self.offspring = 0\n",
    "        \n",
    "        if self.is_caterpillar():\n",
    "            self.caterpillars.append((self.generation, self.idx))\n",
    "    \n",
    "    def is_caterpillar(self):\n",
    "        return ((self.universe.egg_age[type(self)] < self.age) and\n",
    "                (self.age < self.universe.adult_age[type(self)]))\n",
    "    \n",
    "    def increment_age(self):\n",
    "        was_caterpillar = self.is_caterpillar()\n",
    "        self.age = self.age + 1\n",
    "        now_is_caterpillar = self.is_caterpillar()\n",
    "        \n",
    "        # was, but now its too old and it isn't anymore\n",
    "        if was_caterpillar and not now_is_caterpillar:\n",
    "            self.caterpillars.remove((self.generation, self.idx))\n",
    "        \n",
    "        # wasn't, but got older and achieve legal caterpillar age\n",
    "        if not was_caterpillar and now_is_caterpillar:\n",
    "            self.caterpillars.append((self.generation, self.idx))\n",
    "            \n",
    "        # if it was and still is, do nothing\n",
    "        # if it wasn't and still isn't, also do nothing\n",
    "\n",
    "    def kill(self):\n",
    "        self.alive = False\n",
    "        if self.is_caterpillar():\n",
    "            self.caterpillars.remove((self.generation, self.idx))\n",
    "            \n",
    "\n",
    "# set of biological laws that our system obeys,\n",
    "# amongst which:\n",
    "#    > distributions between male and female gender of each creature\n",
    "#    > lifespan of each creature\n",
    "#    > initial lifespan distribution for each creature\n",
    "#    > fertility ratio for each creature\n",
    "#    > offspring mean and variance (normal distributions predefined for\n",
    "#      these distributions)\n",
    "class Universe:\n",
    "    def __init__(self, fmfr, flfsp, ffr, fom, fov, faa, frd,  # fly parameters\n",
    "                 mmfr, mlfsp, mfr, mom, mov, maa, mea, mrd,   # moth parameters\n",
    "                 predation_coefficient):                      # other parameters\n",
    "        \n",
    "        self.mf_ratio = {Fly: fmfr, Moth: mmfr}\n",
    "        self.lifespan = {Fly: flfsp, Moth: mlfsp}\n",
    "        self.fertility_ratio = {Fly: ffr, Moth: mfr}\n",
    "        self.offspring_mean = {Fly: fom, Moth: mom}\n",
    "        self.offspring_variance = {Fly: fov, Moth: mov} \n",
    "        self.adult_age = {Fly: faa, Moth: maa}\n",
    "        self.egg_age = {Fly: None, Moth: mea}\n",
    "        self.random_death_chance = {Fly: frd, Moth: mrd}\n",
    "        \n",
    "        self.predation_coefficient = predation_coefficient\n",
    "        \n",
    "        self.recordable_data = ['living_moths',\n",
    "                                'female_living_moths',\n",
    "                                'dead_moths',\n",
    "                                'randomly_killed_moths',\n",
    "                                'old_age_dead_moths', \n",
    "                                'newborn_moths',\n",
    "                                'living_flies',\n",
    "                                'female_living_flies',\n",
    "                                'dead_flies',\n",
    "                                'randomly_killed_flies',\n",
    "                                'old_age_dead_flies',\n",
    "                                'actual_predator_flies',\n",
    "                                'newborn_flies'\n",
    "                                ]\n",
    "    \n",
    "class WonderfulWorld:\n",
    "    \n",
    "    def __init__(self, n_moths, n_flies, universe, end_of_times):\n",
    "        self.universe = universe\n",
    "        Creature.universe = universe\n",
    "        self.end_of_times = end_of_times\n",
    "        self.instant = 0\n",
    "          \n",
    "        self.n_moths = n_moths\n",
    "        self.n_flies = n_flies\n",
    "            \n",
    "        self.creatures = {Moth: [[]], Fly: [[]]}\n",
    "        self.living_creatures = {Moth: [], Fly: []}\n",
    "        self.data_log = pd.DataFrame(data=None, index=None, columns=universe.recordable_data)\n",
    "        self.iteration_data = {d: 0 for d in universe.recordable_data}\n",
    "        \n",
    "    \n",
    "    # initializes the world with the random distributions of moths and flies\n",
    "    def initialize_world(self):\n",
    "        self.instant = 0\n",
    "        \n",
    "        # initializes:\n",
    "        #    - ages based on a uniform distribution\n",
    "        #    - genders following the universe's male/female ratios\n",
    "        self.creatures = {\n",
    "            Moth: [[Moth(self.instant, i, age=np.random.randint(low=0, high=self.universe.lifespan[Moth] + 1)) \n",
    "                    for i in range(self.n_moths)], [] * self.end_of_times],\n",
    "            Fly: [[Fly(self.instant, i, age=np.random.randint(low=0, high=self.universe.lifespan[Fly] + 1)) \n",
    "                   for i in range(self.n_flies)], [] * self.end_of_times]\n",
    "        }\n",
    "        \n",
    "        self.living_creatures = {\n",
    "            Moth: [(0,i) for i in range(self.n_moths)],\n",
    "            Fly: [(0,i) for i in range(self.n_flies)]\n",
    "        } \n",
    "    \n",
    "    # save the useful data on a dataframe for each generation\n",
    "    def document_step(self):\n",
    "        pass\n",
    "    \n",
    "    def creature(self, c_type, c_gen, c_idx):\n",
    "        return self.creatures[c_type][c_gen][c_idx]\n",
    "    \n",
    "    def kill_creature(self, c_type, c_gen, c_idx):\n",
    "        self.living_creatures[c_type].remove((c_gen, c_idx))\n",
    "        self.creature(c_type, c_gen, c_idx).kill()\n",
    "    \n",
    "    def procriate(self, creature):\n",
    "        children = creature.children(gen=(self.instant + 1),\n",
    "                                     idx=len(self.creatures[type(creature)][self.instant + 1]))\n",
    "        self.creatures[type(creature)][self.instant + 1].append(children)\n",
    "        for c in children:\n",
    "            self.living_creatures[type(creature)].append((c.generation, c.age))\n",
    "    \n",
    "    def random_death(self, creature):\n",
    "        if creature.random_death():\n",
    "            self.kill_creature(type(creature), creature.generation, creature.idx)\n",
    "            return True\n",
    "        else:\n",
    "            return False\n",
    "    \n",
    "    def old_age_death(self, creature):\n",
    "        if creature.old_age_death():\n",
    "            self.kill_creature(type(creature), creature.generation, creature.idx)\n",
    "            return True\n",
    "        else:\n",
    "            return False\n",
    "    \n",
    "    # calculates the chances of a predation happening. Idea: use\n",
    "    # the ratio caterpillars/flies instead of the moth/flies ratio,\n",
    "    # since only the caterpillars can be infested\n",
    "    def predation_happens(self):\n",
    "        # chance of happening: coeff * n_caterpillars / n_flies\n",
    "        return np.random.uniform() < (self.universe.predation_coefficient *\n",
    "                                      len(Moth.caterpillars) / len(self.living_creatures[Fly]))\n",
    "        \n",
    "    def single_step(self):\n",
    "        # moth stuff:\n",
    "        #    > see if it died randomly\n",
    "        #    > see if died of old age\n",
    "        #        - if it was female and fertile, procriates on death\n",
    "        #    > nothing happens bean stew (increment age)\n",
    "        #    > check if it's a caterpillar now (not necessary)\n",
    "        #\n",
    "        # >>> how to process moths from older generations??\n",
    "        #     - copy the moths on the new generation list? (nah)\n",
    "        #     - go checking through all generations the living moths\n",
    "        #     - and process them (nah)\n",
    "        #     - implement a generator method living_moths() that returns\n",
    "        #       the indexes of only the living moths and iterate on that\n",
    "        #       (oya)\n",
    "        #\n",
    "        # IMPORTANT OBS: WE DO NOT PROCESS THE NEWBORN CREATURES\n",
    "        # ON THE SAME LOOP, ONLY ON THE NEXT ONE (even tho it would\n",
    "        # be easy to include them, it would suffice to set the upper\n",
    "        # limit on the living_creatures() generator as 'instant + 2')\n",
    "        #\n",
    "        for creature_idx in self.living_creatures[Moth]:\n",
    "            m = self.creature(Moth, *creature_idx)\n",
    "            if not self.random_death(m):\n",
    "                if self.old_age_death(m):\n",
    "                    if m.can_procriate():\n",
    "                        self.procriate(m)\n",
    "                else:\n",
    "                    m.increment_age()\n",
    "        \n",
    "        # fly stuff:\n",
    "        #    > random death\n",
    "        #    > death by old age\n",
    "        #        - with its last breath, it parasited a moth\n",
    "        #          (or not, we roll the dice to check)\n",
    "        #    > nothing happens bean stew (increment age)\n",
    "        for creature_idx in self.living_creatures[Fly]:\n",
    "            f = self.creature(Fly, *creature_idx)\n",
    "            if not self.random_death(f):\n",
    "                if self.old_age_death(f):\n",
    "                    if self.predation_happens():\n",
    "                        self.predation()\n",
    "                else:\n",
    "                    f.increment_age()\n",
    "        \n",
    "        self.instant = self.instant + 1\n",
    "                    \n",
    "    \n",
    "    # predation method\n",
    "    #     > everything already settle\n",
    "    #     > fly already dieded\n",
    "    #     > check to see if predation happens already made\n",
    "    #       and returned a green light\n",
    "    def predation(self, fly):\n",
    "        \n",
    "        # some shit happens\n",
    "        # get the lucky bastard (caterpillars) by its horns \n",
    "        # (index on the living caterpillars)\n",
    "        lucky_caterpillar = Moth.caterpillars[np.random.randint(low=0, high=len(Moth.caterpillars) + 1)]\n",
    "        \n",
    "        # kill 'em\n",
    "        lucky_caterpillar = self.kill_creature(Moth, *lucky_caterpillar)\n",
    "        \n",
    "        # new baby flies are born\n",
    "        # OBS::: WE DONT CHECK IF THE FLY IS FEMALE\n",
    "        self.procriate(fly)\n",
    "    \n",
    "    \n",
    "    # lets us check how the moths and \n",
    "    def show_data(self, instant):\n",
    "        pass"
   ]
  },
  {
   "cell_type": "code",
   "execution_count": 242,
   "metadata": {},
   "outputs": [],
   "source": [
    "# beetle universe laws:\n",
    "#     - male/female ratio (mfr)\n",
    "#     - lifespan (lfsp)\n",
    "#     - fertility ratio (fr)\n",
    "#     - offspring mean and variance (om and ov)\n",
    "#     - adult age (aa, equal or higher is adult)\n",
    "#     - egg age (ea, less or equal is egg)\n",
    "#     - random death (chance)\n",
    "# fly universe laws parameters\n",
    "fly_params = {\n",
    "                'mfr': 0.5,\n",
    "                'lfsp': 15,\n",
    "                'fr': 0.4,\n",
    "                'om': 7,\n",
    "                'ov': 5,\n",
    "                'aa': 9,\n",
    "                'rd': 0.01\n",
    "            }\n",
    "\n",
    "# moth universe laws parameters\n",
    "moth_params = {\n",
    "                'mfr': 0.5,\n",
    "                'lfsp': 20,\n",
    "                'fr': 0.6,\n",
    "                'om': 21,\n",
    "                'ov': 10,\n",
    "                'aa': 12,\n",
    "                'ee': 4,\n",
    "                'rd': 0.01\n",
    "              }\n",
    "\n",
    "# other parameters:\n",
    "#     - predation coefficient (pc)\n",
    "other_params = {\n",
    "                'pc': 0.7\n",
    "}\n",
    "\n",
    "# universe laws definition\n",
    "u = Universe(*fly_params.values(), *moth_params.values(), *other_params.values())\n",
    "\n",
    "# initial number of beetles and wasps\n",
    "nm = 10\n",
    "nf = 10\n",
    "\n",
    "# number of simulation steps\n",
    "steps = 500\n",
    "\n",
    "# world definition\n",
    "np.random.seed(42)\n",
    "w = WonderfulWorld(nm, nf, u, steps)\n",
    "w.initialize_world()"
   ]
  },
  {
   "cell_type": "code",
   "execution_count": 239,
   "metadata": {},
   "outputs": [
    {
     "data": {
      "text/plain": [
       "{__main__.Moth: [(0, 0)], __main__.Fly: [(0, 0), (0, 2)]}"
      ]
     },
     "execution_count": 239,
     "metadata": {},
     "output_type": "execute_result"
    }
   ],
   "source": [
    "w.living_creatures"
   ]
  },
  {
   "cell_type": "code",
   "execution_count": 240,
   "metadata": {},
   "outputs": [
    {
     "data": {
      "text/plain": [
       "14"
      ]
     },
     "execution_count": 240,
     "metadata": {},
     "output_type": "execute_result"
    }
   ],
   "source": [
    "w.single_step()\n",
    "w.instant"
   ]
  },
  {
   "cell_type": "code",
   "execution_count": null,
   "metadata": {
    "collapsed": true
   },
   "outputs": [],
   "source": []
  },
  {
   "cell_type": "code",
   "execution_count": 185,
   "metadata": {},
   "outputs": [],
   "source": []
  },
  {
   "cell_type": "code",
   "execution_count": 159,
   "metadata": {},
   "outputs": [
    {
     "data": {
      "text/plain": [
       "0"
      ]
     },
     "execution_count": 159,
     "metadata": {},
     "output_type": "execute_result"
    }
   ],
   "source": [
    "w.instant"
   ]
  },
  {
   "cell_type": "code",
   "execution_count": 270,
   "metadata": {
    "collapsed": true
   },
   "outputs": [],
   "source": [
    "w.moths[0][0].age\n",
    "ages = [m.can_procriate() for m in w.flies[0]]"
   ]
  },
  {
   "cell_type": "code",
   "execution_count": 301,
   "metadata": {},
   "outputs": [
    {
     "data": {
      "text/plain": [
       "{__main__.Moth: [(0, 0),\n",
       "  (0, 1),\n",
       "  (0, 2),\n",
       "  (0, 3),\n",
       "  (0, 4),\n",
       "  (0, 5),\n",
       "  (0, 6),\n",
       "  (0, 7),\n",
       "  (0, 8),\n",
       "  (0, 9),\n",
       "  (0, 10),\n",
       "  (0, 11),\n",
       "  (0, 12),\n",
       "  (0, 13),\n",
       "  (0, 14),\n",
       "  (0, 15),\n",
       "  (0, 16),\n",
       "  (0, 17),\n",
       "  (0, 18),\n",
       "  (0, 19),\n",
       "  (0, 20),\n",
       "  (0, 21),\n",
       "  (0, 22),\n",
       "  (0, 23),\n",
       "  (0, 24),\n",
       "  (0, 25),\n",
       "  (0, 26),\n",
       "  (0, 27),\n",
       "  (0, 28),\n",
       "  (0, 29),\n",
       "  (0, 30),\n",
       "  (0, 31),\n",
       "  (0, 32),\n",
       "  (0, 33),\n",
       "  (0, 34),\n",
       "  (0, 35),\n",
       "  (0, 36),\n",
       "  (0, 37),\n",
       "  (0, 38),\n",
       "  (0, 39),\n",
       "  (0, 40),\n",
       "  (0, 41),\n",
       "  (0, 42),\n",
       "  (0, 43),\n",
       "  (0, 44),\n",
       "  (0, 45),\n",
       "  (0, 46),\n",
       "  (0, 47),\n",
       "  (0, 48),\n",
       "  (0, 49),\n",
       "  (0, 50),\n",
       "  (0, 51),\n",
       "  (0, 52),\n",
       "  (0, 53),\n",
       "  (0, 54),\n",
       "  (0, 55),\n",
       "  (0, 56),\n",
       "  (0, 57),\n",
       "  (0, 58),\n",
       "  (0, 59),\n",
       "  (0, 60),\n",
       "  (0, 61),\n",
       "  (0, 62),\n",
       "  (0, 63),\n",
       "  (0, 64),\n",
       "  (0, 65),\n",
       "  (0, 66),\n",
       "  (0, 67),\n",
       "  (0, 68),\n",
       "  (0, 69),\n",
       "  (0, 70),\n",
       "  (0, 71),\n",
       "  (0, 72),\n",
       "  (0, 73),\n",
       "  (0, 74),\n",
       "  (0, 75),\n",
       "  (0, 76),\n",
       "  (0, 77),\n",
       "  (0, 78),\n",
       "  (0, 79),\n",
       "  (0, 80),\n",
       "  (0, 81),\n",
       "  (0, 82),\n",
       "  (0, 83),\n",
       "  (0, 84),\n",
       "  (0, 85),\n",
       "  (0, 86),\n",
       "  (0, 87),\n",
       "  (0, 88),\n",
       "  (0, 89),\n",
       "  (0, 90),\n",
       "  (0, 91),\n",
       "  (0, 92),\n",
       "  (0, 93),\n",
       "  (0, 94),\n",
       "  (0, 95),\n",
       "  (0, 96),\n",
       "  (0, 97),\n",
       "  (0, 98),\n",
       "  (0, 99),\n",
       "  (0, 100),\n",
       "  (0, 101),\n",
       "  (0, 102),\n",
       "  (0, 103),\n",
       "  (0, 104),\n",
       "  (0, 105),\n",
       "  (0, 106),\n",
       "  (0, 107),\n",
       "  (0, 108),\n",
       "  (0, 109),\n",
       "  (0, 110),\n",
       "  (0, 111),\n",
       "  (0, 112),\n",
       "  (0, 113),\n",
       "  (0, 114),\n",
       "  (0, 115),\n",
       "  (0, 116),\n",
       "  (0, 117),\n",
       "  (0, 118),\n",
       "  (0, 119),\n",
       "  (0, 120),\n",
       "  (0, 121),\n",
       "  (0, 122),\n",
       "  (0, 123),\n",
       "  (0, 124),\n",
       "  (0, 125),\n",
       "  (0, 126),\n",
       "  (0, 127),\n",
       "  (0, 128),\n",
       "  (0, 129),\n",
       "  (0, 130),\n",
       "  (0, 131),\n",
       "  (0, 132),\n",
       "  (0, 133),\n",
       "  (0, 134),\n",
       "  (0, 135),\n",
       "  (0, 136),\n",
       "  (0, 137),\n",
       "  (0, 138),\n",
       "  (0, 139),\n",
       "  (0, 140),\n",
       "  (0, 141),\n",
       "  (0, 142),\n",
       "  (0, 143),\n",
       "  (0, 144),\n",
       "  (0, 145),\n",
       "  (0, 146),\n",
       "  (0, 147),\n",
       "  (0, 148),\n",
       "  (0, 149),\n",
       "  (0, 150),\n",
       "  (0, 151),\n",
       "  (0, 152),\n",
       "  (0, 153),\n",
       "  (0, 154),\n",
       "  (0, 155),\n",
       "  (0, 156),\n",
       "  (0, 157),\n",
       "  (0, 158),\n",
       "  (0, 159),\n",
       "  (0, 160),\n",
       "  (0, 161),\n",
       "  (0, 162),\n",
       "  (0, 163),\n",
       "  (0, 164),\n",
       "  (0, 165),\n",
       "  (0, 166),\n",
       "  (0, 167),\n",
       "  (0, 168),\n",
       "  (0, 169),\n",
       "  (0, 170),\n",
       "  (0, 171),\n",
       "  (0, 172),\n",
       "  (0, 173),\n",
       "  (0, 174),\n",
       "  (0, 175),\n",
       "  (0, 176),\n",
       "  (0, 177),\n",
       "  (0, 178),\n",
       "  (0, 179),\n",
       "  (0, 180),\n",
       "  (0, 181),\n",
       "  (0, 182),\n",
       "  (0, 183),\n",
       "  (0, 184),\n",
       "  (0, 185),\n",
       "  (0, 186),\n",
       "  (0, 187),\n",
       "  (0, 188),\n",
       "  (0, 189),\n",
       "  (0, 190),\n",
       "  (0, 191),\n",
       "  (0, 192),\n",
       "  (0, 193),\n",
       "  (0, 194),\n",
       "  (0, 195),\n",
       "  (0, 196),\n",
       "  (0, 197),\n",
       "  (0, 198),\n",
       "  (0, 199)],\n",
       " __main__.Fly: [(0, 0),\n",
       "  (0, 1),\n",
       "  (0, 2),\n",
       "  (0, 3),\n",
       "  (0, 4),\n",
       "  (0, 5),\n",
       "  (0, 6),\n",
       "  (0, 7),\n",
       "  (0, 8),\n",
       "  (0, 9),\n",
       "  (0, 10),\n",
       "  (0, 11),\n",
       "  (0, 12),\n",
       "  (0, 13),\n",
       "  (0, 14),\n",
       "  (0, 15),\n",
       "  (0, 16),\n",
       "  (0, 17),\n",
       "  (0, 18),\n",
       "  (0, 19),\n",
       "  (0, 20),\n",
       "  (0, 21),\n",
       "  (0, 22),\n",
       "  (0, 23),\n",
       "  (0, 24),\n",
       "  (0, 25),\n",
       "  (0, 26),\n",
       "  (0, 27),\n",
       "  (0, 28),\n",
       "  (0, 29),\n",
       "  (0, 30),\n",
       "  (0, 31),\n",
       "  (0, 32),\n",
       "  (0, 33),\n",
       "  (0, 34),\n",
       "  (0, 35),\n",
       "  (0, 36),\n",
       "  (0, 37),\n",
       "  (0, 38),\n",
       "  (0, 39),\n",
       "  (0, 40),\n",
       "  (0, 41),\n",
       "  (0, 42),\n",
       "  (0, 43),\n",
       "  (0, 44),\n",
       "  (0, 45),\n",
       "  (0, 46),\n",
       "  (0, 47),\n",
       "  (0, 48),\n",
       "  (0, 49),\n",
       "  (0, 50),\n",
       "  (0, 51),\n",
       "  (0, 52),\n",
       "  (0, 53),\n",
       "  (0, 54),\n",
       "  (0, 55),\n",
       "  (0, 56),\n",
       "  (0, 57),\n",
       "  (0, 58),\n",
       "  (0, 59),\n",
       "  (0, 60),\n",
       "  (0, 61),\n",
       "  (0, 62),\n",
       "  (0, 63),\n",
       "  (0, 64),\n",
       "  (0, 65),\n",
       "  (0, 66),\n",
       "  (0, 67),\n",
       "  (0, 68),\n",
       "  (0, 69),\n",
       "  (0, 70),\n",
       "  (0, 71),\n",
       "  (0, 72),\n",
       "  (0, 73),\n",
       "  (0, 74),\n",
       "  (0, 75),\n",
       "  (0, 76),\n",
       "  (0, 77),\n",
       "  (0, 78),\n",
       "  (0, 79),\n",
       "  (0, 80),\n",
       "  (0, 81),\n",
       "  (0, 82),\n",
       "  (0, 83),\n",
       "  (0, 84),\n",
       "  (0, 85),\n",
       "  (0, 86),\n",
       "  (0, 87),\n",
       "  (0, 88),\n",
       "  (0, 89),\n",
       "  (0, 90),\n",
       "  (0, 91),\n",
       "  (0, 92),\n",
       "  (0, 93),\n",
       "  (0, 94),\n",
       "  (0, 95),\n",
       "  (0, 96),\n",
       "  (0, 97),\n",
       "  (0, 98),\n",
       "  (0, 99)]}"
      ]
     },
     "execution_count": 301,
     "metadata": {},
     "output_type": "execute_result"
    }
   ],
   "source": [
    "w.living_creatures_idx"
   ]
  },
  {
   "cell_type": "code",
   "execution_count": 303,
   "metadata": {},
   "outputs": [
    {
     "name": "stdout",
     "output_type": "stream",
     "text": [
      "200\n"
     ]
    }
   ],
   "source": [
    "#for m in w.moths[0]:\n",
    "#    print(m.age)\n",
    "print(len(w.moths[0]))"
   ]
  },
  {
   "cell_type": "code",
   "execution_count": 13,
   "metadata": {},
   "outputs": [
    {
     "data": {
      "text/plain": [
       "<__main__.Beetle at 0x7f830f271160>"
      ]
     },
     "execution_count": 13,
     "metadata": {},
     "output_type": "execute_result"
    }
   ],
   "source": [
    "# number of creatures\n",
    "# lifespan\n",
    "# initial lifespan distr\n",
    "# gender distr\n",
    "# "
   ]
  },
  {
   "cell_type": "code",
   "execution_count": null,
   "metadata": {
    "collapsed": true
   },
   "outputs": [],
   "source": []
  },
  {
   "cell_type": "code",
   "execution_count": 9,
   "metadata": {
    "collapsed": true
   },
   "outputs": [],
   "source": [
    "b = [0,0]"
   ]
  },
  {
   "cell_type": "code",
   "execution_count": 41,
   "metadata": {},
   "outputs": [
    {
     "data": {
      "text/plain": [
       "True"
      ]
     },
     "execution_count": 41,
     "metadata": {},
     "output_type": "execute_result"
    }
   ],
   "source": [
    "np.random.uniform() < 0.5"
   ]
  },
  {
   "cell_type": "code",
   "execution_count": 57,
   "metadata": {
    "collapsed": true
   },
   "outputs": [],
   "source": [
    "a = [(0,i) for i in range(5)]"
   ]
  },
  {
   "cell_type": "code",
   "execution_count": 62,
   "metadata": {},
   "outputs": [
    {
     "data": {
      "text/plain": [
       "[(0, 0), (0, 1), (0, 4)]"
      ]
     },
     "execution_count": 62,
     "metadata": {},
     "output_type": "execute_result"
    }
   ],
   "source": [
    "a"
   ]
  },
  {
   "cell_type": "code",
   "execution_count": 61,
   "metadata": {},
   "outputs": [
    {
     "name": "stdout",
     "output_type": "stream",
     "text": [
      "(0, 0)\n",
      "(0, 1)\n",
      "(0, 3)\n"
     ]
    }
   ],
   "source": [
    "for idx,elem in enumerate(a):\n",
    "    print(elem)\n",
    "    if idx == 2:\n",
    "        del a[idx]"
   ]
  },
  {
   "cell_type": "code",
   "execution_count": 25,
   "metadata": {},
   "outputs": [],
   "source": [
    "del a[0][2]"
   ]
  },
  {
   "cell_type": "code",
   "execution_count": 174,
   "metadata": {
    "collapsed": true
   },
   "outputs": [],
   "source": [
    "a = (0,2)"
   ]
  },
  {
   "cell_type": "code",
   "execution_count": 175,
   "metadata": {
    "collapsed": true
   },
   "outputs": [],
   "source": [
    "def foo(a, b):\n",
    "    return a + b\n"
   ]
  },
  {
   "cell_type": "code",
   "execution_count": 176,
   "metadata": {},
   "outputs": [
    {
     "data": {
      "text/plain": [
       "2"
      ]
     },
     "execution_count": 176,
     "metadata": {},
     "output_type": "execute_result"
    }
   ],
   "source": [
    "foo(a[0], a[1])"
   ]
  },
  {
   "cell_type": "code",
   "execution_count": 178,
   "metadata": {},
   "outputs": [
    {
     "data": {
      "text/plain": [
       "2"
      ]
     },
     "execution_count": 178,
     "metadata": {},
     "output_type": "execute_result"
    }
   ],
   "source": [
    "foo(*a)"
   ]
  },
  {
   "cell_type": "code",
   "execution_count": 243,
   "metadata": {
    "collapsed": true
   },
   "outputs": [],
   "source": [
    "c = ['living_moths',\n",
    "                                                                     'female_living_moths',\n",
    "                                                                     'dead_moths',\n",
    "                                                                     'randomly_killed_moths',\n",
    "                                                                     'old_age_dead_moths', \n",
    "                                                                     'newborn_moths',\n",
    "                                                                     'living_flies',\n",
    "                                                                     'female_living_flies',\n",
    "                                                                     'dead_flies',\n",
    "                                                                     'randomly_killed_flies',\n",
    "                                                                     'old_age_dead_flies',\n",
    "                                                                     'actual_predator_flies',\n",
    "                                                                     'newborn_flies'\n",
    "                                                                     ]"
   ]
  },
  {
   "cell_type": "code",
   "execution_count": 244,
   "metadata": {},
   "outputs": [
    {
     "data": {
      "text/plain": [
       "['living_moths',\n",
       " 'female_living_moths',\n",
       " 'dead_moths',\n",
       " 'randomly_killed_moths',\n",
       " 'old_age_dead_moths',\n",
       " 'newborn_moths',\n",
       " 'living_flies',\n",
       " 'female_living_flies',\n",
       " 'dead_flies',\n",
       " 'randomly_killed_flies',\n",
       " 'old_age_dead_flies',\n",
       " 'actual_predator_flies',\n",
       " 'newborn_flies']"
      ]
     },
     "execution_count": 244,
     "metadata": {},
     "output_type": "execute_result"
    }
   ],
   "source": [
    "c"
   ]
  },
  {
   "cell_type": "code",
   "execution_count": 245,
   "metadata": {
    "collapsed": true
   },
   "outputs": [],
   "source": [
    "a = {xd: 0 for xd in c}"
   ]
  },
  {
   "cell_type": "code",
   "execution_count": 246,
   "metadata": {},
   "outputs": [
    {
     "data": {
      "text/plain": [
       "{'actual_predator_flies': 0,\n",
       " 'dead_flies': 0,\n",
       " 'dead_moths': 0,\n",
       " 'female_living_flies': 0,\n",
       " 'female_living_moths': 0,\n",
       " 'living_flies': 0,\n",
       " 'living_moths': 0,\n",
       " 'newborn_flies': 0,\n",
       " 'newborn_moths': 0,\n",
       " 'old_age_dead_flies': 0,\n",
       " 'old_age_dead_moths': 0,\n",
       " 'randomly_killed_flies': 0,\n",
       " 'randomly_killed_moths': 0}"
      ]
     },
     "execution_count": 246,
     "metadata": {},
     "output_type": "execute_result"
    }
   ],
   "source": [
    "a"
   ]
  },
  {
   "cell_type": "code",
   "execution_count": null,
   "metadata": {
    "collapsed": true
   },
   "outputs": [],
   "source": []
  }
 ],
 "metadata": {
  "kernelspec": {
   "display_name": "Python 3",
   "language": "python",
   "name": "python3"
  },
  "language_info": {
   "codemirror_mode": {
    "name": "ipython",
    "version": 3
   },
   "file_extension": ".py",
   "mimetype": "text/x-python",
   "name": "python",
   "nbconvert_exporter": "python",
   "pygments_lexer": "ipython3",
   "version": "3.6.1"
  }
 },
 "nbformat": 4,
 "nbformat_minor": 1
}
